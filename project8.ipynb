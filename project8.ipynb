{
  "cells": [
    {
      "cell_type": "markdown",
      "metadata": {
        "id": "-FB8_ohX6d6D"
      },
      "source": [
        "# CS5830 Project 8: Decision Trees/Neural Networks"
      ]
    },
    {
      "cell_type": "code",
      "execution_count": null,
      "metadata": {
        "id": "TQtJbuP96d6F"
      },
      "outputs": [],
      "source": [
        "from pathlib import Path\n",
        "output_dir = Path('output')\n",
        "\n",
        "import pandas as pd\n",
        "import numpy as np\n",
        "import matplotlib.pyplot as plt\n",
        "import seaborn as sns\n",
        "\n",
        "from sklearn.model_selection import train_test_split\n",
        "from sklearn.tree import DecisionTreeClassifier, export_graphviz\n",
        "from sklearn.metrics import precision_recall_fscore_support, classification_report, confusion_matrix\n",
        "from sklearn.preprocessing import StandardScaler\n",
        "from sklearn.neural_network import MLPClassifier\n",
        "\n",
        "from IPython.display import SVG\n",
        "from graphviz import Source\n",
        "import networkx as nx\n",
        "import colorsys"
      ]
    },
    {
      "cell_type": "code",
      "execution_count": null,
      "metadata": {
        "colab": {
          "base_uri": "https://localhost:8080/"
        },
        "id": "hgy3x1Fq6d6H",
        "outputId": "7fa5b3a5-aac3-46b4-d390-c7fb4bdf5348"
      },
      "outputs": [],
      "source": [
        "df = pd.read_csv(\"diabetes.csv\")\n",
        "df.info()"
      ]
    },
    {
      "cell_type": "code",
      "execution_count": null,
      "metadata": {},
      "outputs": [],
      "source": [
        "df"
      ]
    },
    {
      "cell_type": "markdown",
      "metadata": {},
      "source": [
        "### Removing NaN Values"
      ]
    },
    {
      "cell_type": "code",
      "execution_count": null,
      "metadata": {},
      "outputs": [],
      "source": [
        "df = df.dropna()\n",
        "df"
      ]
    },
    {
      "cell_type": "markdown",
      "metadata": {},
      "source": [
        "#### Looks we do not have any NaN values"
      ]
    },
    {
      "cell_type": "markdown",
      "metadata": {},
      "source": [
        "## Explore feature correlations with target column"
      ]
    },
    {
      "cell_type": "code",
      "execution_count": null,
      "metadata": {},
      "outputs": [],
      "source": [
        "corr = df.corr()\n",
        "plt.figure(figsize=(12, 10))\n",
        "heatmap = sns.heatmap(\n",
        "    corr,\n",
        "    annot=True,\n",
        "    cmap='coolwarm',\n",
        "    fmt=\".2f\",\n",
        "    annot_kws={\"fontsize\": 16}\n",
        ")  # Adjust fontsize as needed\n",
        "\n",
        "heatmap.set_xticklabels(heatmap.get_xticklabels(),  fontsize=16)\n",
        "heatmap.set_yticklabels(heatmap.get_yticklabels(), fontsize=16)\n",
        "plt.title(\"Correlation Heatmap\", fontsize=19)  # Adjust fontsize as needed\n",
        "plt.show()"
      ]
    },
    {
      "cell_type": "code",
      "execution_count": null,
      "metadata": {
        "colab": {
          "base_uri": "https://localhost:8080/",
          "height": 424
        },
        "id": "rfiDFc3e6d6I",
        "outputId": "5712dcaa-9fcd-45f2-822d-8c54be940a43"
      },
      "outputs": [],
      "source": [
        "X = df.drop(\"Outcome\", axis=1)\n",
        "y = df[\"Outcome\"]\n",
        "X"
      ]
    },
    {
      "cell_type": "code",
      "execution_count": null,
      "metadata": {
        "colab": {
          "base_uri": "https://localhost:8080/",
          "height": 424
        },
        "id": "r_HyxlPQ6d6J",
        "outputId": "84220a4d-192c-44e7-d51e-481f7e8e81fb"
      },
      "outputs": [],
      "source": [
        "X = X[[\"Glucose\", \"BMI\", \"Age\", \"Pregnancies\", \"DiabetesPedigreeFunction\"]]\n",
        "\n",
        "X_train, X_test, y_train, y_test = train_test_split(X, y, test_size=0.2, random_state=42)\n",
        "display(X_train)"
      ]
    },
    {
      "cell_type": "markdown",
      "metadata": {
        "id": "LBRMOE506d6K"
      },
      "source": [
        "## Decision Tree: `max_depth=3`"
      ]
    },
    {
      "cell_type": "code",
      "execution_count": null,
      "metadata": {
        "colab": {
          "base_uri": "https://localhost:8080/",
          "height": 724
        },
        "id": "wSkpM-ea6d6K",
        "outputId": "cd5e4ba5-ab9a-4c7c-cb50-c0aabc7c0379"
      },
      "outputs": [],
      "source": [
        "dt = DecisionTreeClassifier(max_depth=3, random_state=1)\n",
        "dt.fit(X_train, y_train)\n",
        "\n",
        "p, r, f, _ = precision_recall_fscore_support(y_test, dt.predict(X_test), labels=[0, 1])\n",
        "display(pd.DataFrame({\n",
        "    \"Precision\": p,\n",
        "    \"Recall\": r,\n",
        "    \"F1\": f\n",
        "    }, index=[\"Class 0\", \"Class 1\"]).T)\n",
        "\n",
        "dot = export_graphviz(\n",
        "    dt,\n",
        "    out_file=None,\n",
        "    feature_names=[\"Glucose\", \"BMI\", \"Age\", \"Pregnancies\", \"DiabetesPedigreeFunction\"],\n",
        "    class_names=[\"0\", \"1\"],\n",
        "    filled = True\n",
        ")\n",
        "\n",
        "graph = Source(dot)\n",
        "svg = SVG(graph.pipe(format='svg'))\n",
        "# plt.savefig(\"tree3.jpg\")\n",
        "display(svg)\n",
        "svg_bytes = graph.pipe(format='png')\n",
        "\n",
        "filename = \"decision_tree3.png\"\n",
        "with open(filename, \"wb\") as f:\n",
        "    f.write(svg_bytes)"
      ]
    },
    {
      "cell_type": "markdown",
      "metadata": {
        "id": "OsiN4AUg7Wow"
      },
      "source": [
        "### Confusion matrix"
      ]
    },
    {
      "cell_type": "code",
      "execution_count": null,
      "metadata": {
        "colab": {
          "base_uri": "https://localhost:8080/",
          "height": 489
        },
        "id": "R4sVPGut7Y68",
        "outputId": "47aceecc-962c-4d59-c5e5-13cf891c6123"
      },
      "outputs": [],
      "source": [
        "y_pred = dt.predict(X_test)\n",
        "\n",
        "sns.heatmap(confusion_matrix(y_test, y_pred), annot=True, fmt=\"d\")\n",
        "plt.title(\"Confusion Matrix for Decision tree with max depth 3\")\n",
        "plt.xlabel(\"Predicted\")\n",
        "plt.ylabel(\"Actual\")"
      ]
    },
    {
      "cell_type": "markdown",
      "metadata": {
        "id": "uW47S53o6kdM"
      },
      "source": [
        "### Feature importance"
      ]
    },
    {
      "cell_type": "code",
      "execution_count": null,
      "metadata": {
        "colab": {
          "base_uri": "https://localhost:8080/",
          "height": 206
        },
        "id": "tGTvijDY6j52",
        "outputId": "73ffb4d7-e2cd-482f-c24d-72bf79e20b75"
      },
      "outputs": [],
      "source": [
        "feature_importance = pd.DataFrame({ 'feature': [\"Glucose\", \"BMI\", \"Age\", \"Pregnancies\", \"DiabetesPedigreeFunction\"], 'importance': dt.feature_importances_}).sort_values(\"importance\", ascending=False)[:5]\n",
        "display(feature_importance)"
      ]
    },
    {
      "cell_type": "markdown",
      "metadata": {
        "id": "EcFerJdA6d6L"
      },
      "source": [
        "## Decision Tree: `max_depth=9`"
      ]
    },
    {
      "cell_type": "code",
      "execution_count": null,
      "metadata": {
        "colab": {
          "base_uri": "https://localhost:8080/",
          "height": 1000
        },
        "id": "BCG9MhwI6d6M",
        "outputId": "1ae3c863-fdab-4462-870e-b58b749c38d6"
      },
      "outputs": [],
      "source": [
        "dt = DecisionTreeClassifier(max_depth=9, random_state=1)\n",
        "dt.fit(X_train, y_train)\n",
        "\n",
        "p, r, f, _ = precision_recall_fscore_support(y_test, dt.predict(X_test), labels=[0, 1])\n",
        "display(pd.DataFrame({\n",
        "    \"Precision\": p,\n",
        "    \"Recall\": r,\n",
        "    \"F1\": f\n",
        "    }, index=[\"Class 0\", \"Class 1\"]).T)\n",
        "\n",
        "dot = export_graphviz(\n",
        "    dt,\n",
        "    out_file=None,\n",
        "    feature_names=[\"Glucose\", \"BMI\", \"Age\", \"Pregnancies\", \"DiabetesPedigreeFunction\"],\n",
        "    class_names=[\"0\", \"1\"],\n",
        "    filled = True\n",
        ")\n",
        "\n",
        "graph = Source(dot)\n",
        "svg = SVG(graph.pipe(format='svg'))\n",
        "display(svg)\n",
        "svg_bytes = graph.pipe(format='png')\n",
        "\n",
        "# Write the SVG bytes to a file\n",
        "filename = \"decision_tree9.png\"\n",
        "with open(filename, \"wb\") as f:\n",
        "    f.write(svg_bytes)"
      ]
    },
    {
      "cell_type": "markdown",
      "metadata": {
        "id": "m1wARKsP8APk"
      },
      "source": [
        "### Confusion matrix"
      ]
    },
    {
      "cell_type": "code",
      "execution_count": null,
      "metadata": {
        "colab": {
          "base_uri": "https://localhost:8080/",
          "height": 489
        },
        "id": "hXRYd2YA8COG",
        "outputId": "129f30d9-f206-4cf7-9888-da02b140eee5"
      },
      "outputs": [],
      "source": [
        "y_pred = dt.predict(X_test)\n",
        "\n",
        "sns.heatmap(confusion_matrix(y_test, y_pred), annot=True, fmt=\"d\")\n",
        "plt.title(\"Confusion Matrix for Decision tree with max depth 9\")\n",
        "plt.xlabel(\"Predicted\")\n",
        "plt.ylabel(\"Actual\")"
      ]
    },
    {
      "cell_type": "markdown",
      "metadata": {
        "id": "FGR7PJYf6pB8"
      },
      "source": [
        "### Feature importance"
      ]
    },
    {
      "cell_type": "code",
      "execution_count": null,
      "metadata": {
        "colab": {
          "base_uri": "https://localhost:8080/",
          "height": 206
        },
        "id": "rpMclmNq6riM",
        "outputId": "78f41ef8-6863-4723-a553-6b721e33c0ff"
      },
      "outputs": [],
      "source": [
        "feature_importance = pd.DataFrame({ 'feature': [\"Glucose\", \"BMI\", \"Age\", \"Pregnancies\", \"DiabetesPedigreeFunction\"], 'importance': dt.feature_importances_}).sort_values(\"importance\", ascending=False)[:5]\n",
        "display(feature_importance)"
      ]
    },
    {
      "cell_type": "markdown",
      "metadata": {
        "id": "7nYLQvFo6d6M"
      },
      "source": [
        "## Neural Networks"
      ]
    },
    {
      "cell_type": "code",
      "execution_count": null,
      "metadata": {
        "id": "NCcdyvTM6d6M"
      },
      "outputs": [],
      "source": [
        "# Function defs\n",
        "\n",
        "def mlp_info(mlp: MLPClassifier):\n",
        "    print('This dataset has {} input nodes and {} output node(s)'.format(len(X.columns), len(y.unique())))\n",
        "    print('There are {} 2D arrays of coefficients, one for each layer'.format(len(mlp.coefs_)))\n",
        "    print('The layers have the following number of coefficients: {}')\n",
        "    for l in range(len(mlp.coefs_)):\n",
        "        m = len(mlp.coefs_[l])\n",
        "        n = len(mlp.coefs_[l][0])\n",
        "        print('  {}: {}x{} ({} nodes feeding into a layer of {} nodes)'.format(l, m, n, m, n))\n",
        "    # Print the actual coefficients\n",
        "    # print(mlp.coefs_)\n",
        "\n",
        "    print()\n",
        "    print('There are {} 1D arrays of intercepts, one for each layer'.format(len(mlp.intercepts_)))\n",
        "    print('Each layer has {} intercepts, one for each node'.format([len(mlp.intercepts_[l]) for l,_ in enumerate(mlp.intercepts_)]))\n",
        "\n",
        "\n",
        "def show_ann(mlp):\n",
        "    hidden_layers_n = len(mlp.coefs_)-1\n",
        "    layers_n = hidden_layers_n + 2\n",
        "    input_neurons_n = len(mlp.coefs_[0])\n",
        "    hidden_neurons_n = [len(mlp.coefs_[i+1]) for i in range(hidden_layers_n)]\n",
        "    output_neurons_n = len(mlp.coefs_[-1][0])\n",
        "\n",
        "    G = nx.DiGraph()\n",
        "    pos = {}\n",
        "\n",
        "    # Create the neurons of the input layer\n",
        "    for i in range(input_neurons_n):\n",
        "        pos['Layer0_{}'.format(i)] = (i,layers_n-1)\n",
        "\n",
        "    for j in range(hidden_layers_n):\n",
        "        # Create the neurons of the j'th hidden layer\n",
        "        prev_layer = j\n",
        "        cur_layer = j+1\n",
        "        if (j == 0):\n",
        "            prev_size = input_neurons_n\n",
        "        else:\n",
        "            prev_size = hidden_neurons_n[j-1]\n",
        "        for i in range(hidden_neurons_n[j]):\n",
        "            pos['Layer{}_{}'.format(cur_layer,i)] = (i,layers_n-1-cur_layer)\n",
        "            for k in range(prev_size):\n",
        "                w = mlp.coefs_[prev_layer][k][i]\n",
        "                G.add_edge('Layer{}_{}'.format(prev_layer,k),'Layer{}_{}'.format(cur_layer,i), weight=w)\n",
        "\n",
        "    # Create the neurons of the output layer\n",
        "    prev_layer = hidden_layers_n\n",
        "    cur_layer = hidden_layers_n+1\n",
        "    for i in range(output_neurons_n):\n",
        "        pos['Layer{}_{}'.format(cur_layer,i)] = (i,layers_n-1-cur_layer)\n",
        "        for k in range(hidden_neurons_n[-1]):\n",
        "            w = mlp.coefs_[prev_layer][k][i]\n",
        "            G.add_edge('Layer{}_{}'.format(prev_layer,k),'Layer{}_{}'.format(cur_layer,i), weight=w)\n",
        "\n",
        "    edges = G.edges()\n",
        "    colors = [colorsys.hsv_to_rgb(0 if G[u][v]['weight'] < 0 else 0.65,\n",
        "                                  1,#min(1, abs(G[u][v]['weight'])),\n",
        "                                  1) for u,v in edges]\n",
        "    weights = [abs(G[u][v]['weight'])*2 for u,v in edges]\n",
        "\n",
        "    nx.draw(\n",
        "        G,\n",
        "        pos,\n",
        "        node_color=\"y\",\n",
        "        node_size=150,\n",
        "        width=weights,\n",
        "        edge_color=colors\n",
        "    )\n"
      ]
    },
    {
      "cell_type": "markdown",
      "metadata": {
        "id": "egLbDhz96d6N"
      },
      "source": [
        "### Scale the feature data"
      ]
    },
    {
      "cell_type": "code",
      "execution_count": null,
      "metadata": {
        "colab": {
          "base_uri": "https://localhost:8080/",
          "height": 424
        },
        "id": "JtmMQ7pN6d6N",
        "outputId": "733f38dd-eecf-4de3-d0ef-b6b6fb3d11be"
      },
      "outputs": [],
      "source": [
        "X = df.drop(\"Outcome\", axis=1)\n",
        "y = df[\"Outcome\"]\n",
        "X_train, X_test, y_train, y_test = train_test_split(X, y, test_size=0.2, random_state=42)\n",
        "\n",
        "scaler = StandardScaler().set_output(transform=\"pandas\")\n",
        "X_train = scaler.fit_transform(X_train)\n",
        "X_test = scaler.transform(X_test)\n",
        "X_train"
      ]
    },
    {
      "cell_type": "markdown",
      "metadata": {
        "id": "oaBcZ7Nq6d6N"
      },
      "source": [
        "### Train and fit\n",
        "\n",
        "#### `hidden_layer_sizes=(10, 14, 6)`"
      ]
    },
    {
      "cell_type": "code",
      "execution_count": null,
      "metadata": {
        "colab": {
          "base_uri": "https://localhost:8080/",
          "height": 74
        },
        "id": "NFf48_k46d6N",
        "outputId": "b36832ee-df8c-47c1-cc48-3a92a0186f97"
      },
      "outputs": [],
      "source": [
        "mlp = MLPClassifier(\n",
        "    max_iter=1000,\n",
        "    hidden_layer_sizes=(10, 14, 6),\n",
        "    random_state=1,\n",
        ")\n",
        "\n",
        "mlp.fit(X_train,y_train)"
      ]
    },
    {
      "cell_type": "markdown",
      "metadata": {
        "id": "wJZgLGR76d6O"
      },
      "source": [
        "#### Prediction/Evaluation"
      ]
    },
    {
      "cell_type": "code",
      "execution_count": null,
      "metadata": {
        "colab": {
          "base_uri": "https://localhost:8080/",
          "height": 646
        },
        "id": "kV_LcZIY6d6O",
        "outputId": "bdf5f049-7220-4d51-8ea5-b48d85f546c2"
      },
      "outputs": [],
      "source": [
        "y_pred = mlp.predict(X_test)\n",
        "\n",
        "print(classification_report(y_test, y_pred))\n",
        "sns.heatmap(confusion_matrix(y_test, y_pred), annot=True, fmt=\"d\")\n",
        "plt.title(\"Confusion Matrix for Neural Network\")\n",
        "plt.xlabel(\"Predicted\")\n",
        "plt.ylabel(\"Actual\")"
      ]
    },
    {
      "cell_type": "code",
      "execution_count": null,
      "metadata": {
        "colab": {
          "base_uri": "https://localhost:8080/",
          "height": 690
        },
        "id": "M2wUGpMG6d6O",
        "outputId": "4983d520-9930-47fa-9b68-4edca9f8db6b"
      },
      "outputs": [],
      "source": [
        "mlp_info(mlp)\n",
        "show_ann(mlp)"
      ]
    },
    {
      "cell_type": "markdown",
      "metadata": {
        "id": "4XVXoL2B6d6O"
      },
      "source": [
        "#### `hidden_layer_sizes=(5, 8, 11, 15)`"
      ]
    },
    {
      "cell_type": "code",
      "execution_count": null,
      "metadata": {
        "colab": {
          "base_uri": "https://localhost:8080/",
          "height": 74
        },
        "id": "H1R8mL-Z6d6O",
        "outputId": "f1d56d3f-3ded-4bba-a656-d0a4349910b3"
      },
      "outputs": [],
      "source": [
        "mlp = MLPClassifier(\n",
        "    max_iter=1000,\n",
        "    hidden_layer_sizes=(5, 8, 11, 15),\n",
        "    random_state=1,\n",
        ")\n",
        "\n",
        "mlp.fit(X_train,y_train)"
      ]
    },
    {
      "cell_type": "markdown",
      "metadata": {
        "id": "0D1n-cu_6d6O"
      },
      "source": [
        "#### Prediction/Evaluation"
      ]
    },
    {
      "cell_type": "code",
      "execution_count": null,
      "metadata": {
        "colab": {
          "base_uri": "https://localhost:8080/",
          "height": 646
        },
        "id": "veasnV5r6d6P",
        "outputId": "1e7a78d7-ba3e-4ebf-952a-923aabd9a262"
      },
      "outputs": [],
      "source": [
        "y_pred = mlp.predict(X_test)\n",
        "\n",
        "print(classification_report(y_test, y_pred))\n",
        "sns.heatmap(confusion_matrix(y_test, y_pred), annot=True, fmt=\"d\")\n",
        "plt.title(\"Confusion Matrix for Neural Network\")\n",
        "plt.xlabel(\"Predicted\")\n",
        "plt.ylabel(\"Actual\")"
      ]
    },
    {
      "cell_type": "code",
      "execution_count": null,
      "metadata": {
        "colab": {
          "base_uri": "https://localhost:8080/",
          "height": 707
        },
        "id": "K6felWgY6d6P",
        "outputId": "e9e9b337-feb4-4e13-e3cb-b796d8898405"
      },
      "outputs": [],
      "source": [
        "mlp_info(mlp)\n",
        "show_ann(mlp)"
      ]
    },
    {
      "cell_type": "markdown",
      "metadata": {
        "id": "HgH0Ag5i6d6P"
      },
      "source": [
        "#### `hidden_layer_sizes=(5, 8)`"
      ]
    },
    {
      "cell_type": "code",
      "execution_count": null,
      "metadata": {
        "colab": {
          "base_uri": "https://localhost:8080/",
          "height": 74
        },
        "id": "jxsFSaqk6d6P",
        "outputId": "903a93fd-4b68-4f6b-f17f-90fa1f128a50"
      },
      "outputs": [],
      "source": [
        "mlp = MLPClassifier(\n",
        "    max_iter=1000,\n",
        "    hidden_layer_sizes=(5, 8),\n",
        "    random_state=1,\n",
        ")\n",
        "\n",
        "mlp.fit(X_train,y_train)"
      ]
    },
    {
      "cell_type": "markdown",
      "metadata": {
        "id": "sJO0_So76d6P"
      },
      "source": [
        "#### Prediction/Evaluation"
      ]
    },
    {
      "cell_type": "code",
      "execution_count": null,
      "metadata": {
        "colab": {
          "base_uri": "https://localhost:8080/",
          "height": 646
        },
        "id": "5G2k9YF66d6Q",
        "outputId": "54b34f3a-0650-481c-f417-69d59df29532"
      },
      "outputs": [],
      "source": [
        "y_pred = mlp.predict(X_test)\n",
        "\n",
        "print(classification_report(y_test, y_pred))\n",
        "sns.heatmap(confusion_matrix(y_test, y_pred), annot=True, fmt=\"d\")\n",
        "plt.title(\"Confusion Matrix for Neural Network\")\n",
        "plt.xlabel(\"Predicted\")\n",
        "plt.ylabel(\"Actual\")"
      ]
    },
    {
      "cell_type": "code",
      "execution_count": null,
      "metadata": {
        "colab": {
          "base_uri": "https://localhost:8080/",
          "height": 672
        },
        "id": "2tbAg6kn6d6Q",
        "outputId": "fdcd468f-b427-4a50-fc5d-911492f3ea33"
      },
      "outputs": [],
      "source": [
        "mlp_info(mlp)\n",
        "show_ann(mlp)"
      ]
    }
  ],
  "metadata": {
    "colab": {
      "provenance": []
    },
    "kernelspec": {
      "display_name": "Python 3",
      "language": "python",
      "name": "python3"
    },
    "language_info": {
      "codemirror_mode": {
        "name": "ipython",
        "version": 3
      },
      "file_extension": ".py",
      "mimetype": "text/x-python",
      "name": "python",
      "nbconvert_exporter": "python",
      "pygments_lexer": "ipython3",
      "version": "3.11.1"
    }
  },
  "nbformat": 4,
  "nbformat_minor": 0
}
