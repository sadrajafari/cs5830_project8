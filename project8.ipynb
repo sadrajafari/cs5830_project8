{
 "cells": [
  {
   "cell_type": "code",
   "execution_count": null,
   "metadata": {},
   "outputs": [],
   "source": [
    "import pandas as pd\n",
    "from sklearn.model_selection import train_test_split\n",
    "from sklearn.tree import DecisionTreeClassifier\n",
    "from sklearn.metrics import precision_recall_fscore_support\n",
    "import matplotlib.pyplot as plt\n",
    "import seaborn as sns\n",
    "from sklearn.tree import export_graphviz\n",
    "from IPython.display import SVG\n",
    "from sklearn import tree\n",
    "from graphviz import Source"
   ]
  },
  {
   "cell_type": "code",
   "execution_count": null,
   "metadata": {},
   "outputs": [],
   "source": [
    "df = pd.read_csv(\"diabetes.csv\")\n",
    "df"
   ]
  },
  {
   "cell_type": "markdown",
   "metadata": {},
   "source": [
    "### Dropping NaN values"
   ]
  },
  {
   "cell_type": "code",
   "execution_count": null,
   "metadata": {},
   "outputs": [],
   "source": [
    "df = df.dropna()"
   ]
  },
  {
   "cell_type": "markdown",
   "metadata": {},
   "source": [
    "## Looking at data correlation"
   ]
  },
  {
   "cell_type": "code",
   "execution_count": null,
   "metadata": {},
   "outputs": [],
   "source": [
    "corr = df.corr()\n",
    "plt.figure(figsize=(12, 10))\n",
    "heatmap = sns.heatmap(corr, annot=True, cmap='coolwarm', fmt=\".2f\",\n",
    "            annot_kws={\"fontsize\": 16})  # Adjust fontsize as needed\n",
    "heatmap.set_xticklabels(heatmap.get_xticklabels(),  fontsize=16)\n",
    "heatmap.set_yticklabels(heatmap.get_yticklabels(), fontsize=16)\n",
    "plt.title(\"Correlation Heatmap\", fontsize=19)  # Adjust fontsize as needed\n",
    "plt.show()"
   ]
  },
  {
   "cell_type": "markdown",
   "metadata": {},
   "source": [
    "# Defining X, y"
   ]
  },
  {
   "cell_type": "code",
   "execution_count": null,
   "metadata": {},
   "outputs": [],
   "source": [
    "X, y = df.drop(\"Outcome\", axis=1), df[\"Outcome\"]\n",
    "X"
   ]
  },
  {
   "cell_type": "markdown",
   "metadata": {},
   "source": [
    "# Using Top 6 features for decision tree"
   ]
  },
  {
   "cell_type": "code",
   "execution_count": null,
   "metadata": {},
   "outputs": [],
   "source": [
    "X = X[[\"Glucose\", \"BMI\", \"Age\", \"Pregnancies\", \"DiabetesPedigreeFunction\"]]"
   ]
  },
  {
   "cell_type": "markdown",
   "metadata": {},
   "source": [
    "# Splitting data into train and test"
   ]
  },
  {
   "cell_type": "code",
   "execution_count": null,
   "metadata": {},
   "outputs": [],
   "source": [
    "X_train, X_test, y_train, y_test = train_test_split(X, y, test_size=0.2, random_state=42)"
   ]
  },
  {
   "cell_type": "markdown",
   "metadata": {},
   "source": [
    "# Creating our tree with max depth 3"
   ]
  },
  {
   "cell_type": "code",
   "execution_count": null,
   "metadata": {},
   "outputs": [],
   "source": [
    "dt = DecisionTreeClassifier(max_depth=3, random_state=1)\n",
    "dt.fit(X_train, y_train)\n",
    "\n",
    "p, r, f, _ = precision_recall_fscore_support(y_test, dt.predict(X_test), labels=[0, 1])\n",
    "display(f\"precision: {p}\")\n",
    "display(f\"recall: {r}\")\n",
    "display(f\"f-score: {f}\")\n",
    "\n",
    "\n",
    "dot = tree.export_graphviz(dt, out_file=None,\n",
    "                                    feature_names=[\"Solids\", \"Chloramines\", \"Sulfate\", \"Conductivity\", \"Organic_carbon\", \"Turbidity\"],\n",
    "                                    class_names=[\"0\", \"1\"], filled = True)\n",
    "\n",
    "graph = Source(dot)\n",
    "svg = SVG(graph.pipe(format='svg'))\n",
    "# plt.savefig(\"tree3.jpg\")\n",
    "display(svg)\n",
    "svg_bytes = graph.pipe(format='png')\n",
    "\n",
    "# Specify the file path where you want to save the SVG file\n",
    "file_path = \"decision_tree3.png\"\n",
    "\n",
    "# Write the SVG bytes to a file\n",
    "with open(file_path, \"wb\") as f:\n",
    "    f.write(svg_bytes)"
   ]
  },
  {
   "cell_type": "markdown",
   "metadata": {},
   "source": [
    "# Creating our tree with max depth 9"
   ]
  },
  {
   "cell_type": "code",
   "execution_count": null,
   "metadata": {},
   "outputs": [],
   "source": [
    "dt = DecisionTreeClassifier(max_depth=9, random_state=1)\n",
    "dt.fit(X_train, y_train)\n",
    "\n",
    "p, r, f, _ = precision_recall_fscore_support(y_test, dt.predict(X_test), labels=[0, 1])\n",
    "display(f\"precision: {p}\")\n",
    "display(f\"recall: {r}\")\n",
    "display(f\"f-score: {f}\")\n",
    "\n",
    "dot = tree.export_graphviz(dt, out_file=None,\n",
    "                                    feature_names=[\"Solids\", \"Chloramines\", \"Sulfate\", \"Conductivity\", \"Organic_carbon\", \"Turbidity\"],\n",
    "                                    class_names=[\"0\", \"1\"], filled = True)\n",
    "\n",
    "graph = Source(dot)\n",
    "svg = SVG(graph.pipe(format='svg'))\n",
    "display(svg)\n",
    "svg_bytes = graph.pipe(format='png')\n",
    "\n",
    "# Specify the file path where you want to save the SVG file\n",
    "file_path = \"decision_tree5.png\"\n",
    "\n",
    "# Write the SVG bytes to a file\n",
    "with open(file_path, \"wb\") as f:\n",
    "    f.write(svg_bytes)"
   ]
  },
  {
   "cell_type": "code",
   "execution_count": null,
   "metadata": {},
   "outputs": [],
   "source": []
  }
 ],
 "metadata": {
  "kernelspec": {
   "display_name": "Python 3",
   "language": "python",
   "name": "python3"
  },
  "language_info": {
   "codemirror_mode": {
    "name": "ipython",
    "version": 3
   },
   "file_extension": ".py",
   "mimetype": "text/x-python",
   "name": "python",
   "nbconvert_exporter": "python",
   "pygments_lexer": "ipython3",
   "version": "3.11.1"
  }
 },
 "nbformat": 4,
 "nbformat_minor": 2
}
