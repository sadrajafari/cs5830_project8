{
 "cells": [
  {
   "cell_type": "markdown",
   "metadata": {},
   "source": [
    "# CS5830 Project 8: Decision Trees/Neural Networks"
   ]
  },
  {
   "cell_type": "code",
   "execution_count": null,
   "metadata": {},
   "outputs": [],
   "source": [
    "import pandas as pd\n",
    "import numpy as np\n",
    "import matplotlib.pyplot as plt\n",
    "import seaborn as sns\n",
    "\n",
    "from sklearn.model_selection import train_test_split\n",
    "from sklearn.tree import DecisionTreeClassifier, export_graphviz\n",
    "from sklearn.metrics import precision_recall_fscore_support\n",
    "\n",
    "from IPython.display import SVG\n",
    "from graphviz import Source\n",
    "\n",
    "from pathlib import Path\n",
    "\n",
    "output_dir = Path('output')"
   ]
  },
  {
   "cell_type": "code",
   "execution_count": null,
   "metadata": {},
   "outputs": [],
   "source": [
    "df = pd.read_csv(\"diabetes.csv\")\n",
    "df.info()"
   ]
  },
  {
   "cell_type": "code",
   "execution_count": null,
   "metadata": {},
   "outputs": [],
   "source": [
    "X = df.drop(\"Outcome\", axis=1)\n",
    "y = df[\"Outcome\"]\n",
    "X"
   ]
  },
  {
   "cell_type": "markdown",
   "metadata": {},
   "source": [
    "## Explore feature correlations"
   ]
  },
  {
   "cell_type": "code",
   "execution_count": null,
   "metadata": {},
   "outputs": [],
   "source": [
    "corr = X.corr()\n",
    "plt.figure(figsize=(12, 10))\n",
    "heatmap = sns.heatmap(\n",
    "    corr,\n",
    "    annot=True,\n",
    "    cmap='coolwarm',\n",
    "    fmt=\".2f\",\n",
    "    annot_kws={\"fontsize\": 16}\n",
    ")  # Adjust fontsize as needed\n",
    "\n",
    "heatmap.set_xticklabels(heatmap.get_xticklabels(),  fontsize=16)\n",
    "heatmap.set_yticklabels(heatmap.get_yticklabels(), fontsize=16)\n",
    "plt.title(\"Correlation Heatmap\", fontsize=19)  # Adjust fontsize as needed\n",
    "plt.show()"
   ]
  },
  {
   "cell_type": "code",
   "execution_count": null,
   "metadata": {},
   "outputs": [],
   "source": [
    "X = X[[\"Glucose\", \"BMI\", \"Age\", \"Pregnancies\", \"DiabetesPedigreeFunction\"]]\n",
    "\n",
    "X_train, X_test, y_train, y_test = train_test_split(X, y, test_size=0.2, random_state=42)\n",
    "display(X_train)"
   ]
  },
  {
   "cell_type": "markdown",
   "metadata": {},
   "source": [
    "## Decision Tree: `max_depth=3`"
   ]
  },
  {
   "cell_type": "code",
   "execution_count": null,
   "metadata": {},
   "outputs": [],
   "source": [
    "dt = DecisionTreeClassifier(max_depth=3, random_state=1)\n",
    "dt.fit(X_train, y_train)\n",
    "\n",
    "p, r, f, _ = precision_recall_fscore_support(y_test, dt.predict(X_test), labels=[0, 1])\n",
    "display(pd.DataFrame({\n",
    "    \"Precision\": p,\n",
    "    \"Recall\": r,\n",
    "    \"F1\": f\n",
    "    }, index=[\"Class 0\", \"Class 1\"]).T)\n",
    "\n",
    "dot = export_graphviz(\n",
    "    dt,\n",
    "    out_file=None,\n",
    "    feature_names=[\"Glucose\", \"BMI\", \"Age\", \"Pregnancies\", \"DiabetesPedigreeFunction\"],\n",
    "    class_names=[\"0\", \"1\"],\n",
    "    filled = True\n",
    ")\n",
    "\n",
    "graph = Source(dot)\n",
    "svg = SVG(graph.pipe(format='svg'))\n",
    "# plt.savefig(\"tree3.jpg\")\n",
    "display(svg)\n",
    "svg_bytes = graph.pipe(format='png')\n",
    "\n",
    "filename = \"decision_tree3.png\"\n",
    "with open(output_dir / filename, \"wb\") as f:\n",
    "    f.write(svg_bytes)"
   ]
  },
  {
   "cell_type": "markdown",
   "metadata": {},
   "source": [
    "## Decision Tree: `max_depth=9`"
   ]
  },
  {
   "cell_type": "code",
   "execution_count": null,
   "metadata": {},
   "outputs": [],
   "source": [
    "dt = DecisionTreeClassifier(max_depth=9, random_state=1)\n",
    "dt.fit(X_train, y_train)\n",
    "\n",
    "p, r, f, _ = precision_recall_fscore_support(y_test, dt.predict(X_test), labels=[0, 1])\n",
    "display(pd.DataFrame({\n",
    "    \"Precision\": p,\n",
    "    \"Recall\": r,\n",
    "    \"F1\": f\n",
    "    }, index=[\"Class 0\", \"Class 1\"]).T)\n",
    "\n",
    "dot = export_graphviz(\n",
    "    dt,\n",
    "    out_file=None,\n",
    "    feature_names=[\"Glucose\", \"BMI\", \"Age\", \"Pregnancies\", \"DiabetesPedigreeFunction\"],\n",
    "    class_names=[\"0\", \"1\"],\n",
    "    filled = True\n",
    ")\n",
    "\n",
    "graph = Source(dot)\n",
    "svg = SVG(graph.pipe(format='svg'))\n",
    "display(svg)\n",
    "svg_bytes = graph.pipe(format='png')\n",
    "\n",
    "# Write the SVG bytes to a file\n",
    "file_path = \"decision_tree5.png\"\n",
    "with open(output_dir / file_path, \"wb\") as f:\n",
    "    f.write(svg_bytes)"
   ]
  },
  {
   "cell_type": "markdown",
   "metadata": {},
   "source": [
    "## Neural Networks"
   ]
  },
  {
   "cell_type": "code",
   "execution_count": null,
   "metadata": {},
   "outputs": [],
   "source": []
  }
 ],
 "metadata": {
  "kernelspec": {
   "display_name": "Python 3",
   "language": "python",
   "name": "python3"
  },
  "language_info": {
   "codemirror_mode": {
    "name": "ipython",
    "version": 3
   },
   "file_extension": ".py",
   "mimetype": "text/x-python",
   "name": "python",
   "nbconvert_exporter": "python",
   "pygments_lexer": "ipython3",
   "version": "3.10.12"
  }
 },
 "nbformat": 4,
 "nbformat_minor": 2
}
